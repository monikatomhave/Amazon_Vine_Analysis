{
 "cells": [
  {
   "cell_type": "code",
   "execution_count": null,
   "id": "28dc1323",
   "metadata": {},
   "outputs": [],
   "source": [
    "import os\n",
    "# Find the latest version of spark 3.0 from http://www.apache.org/dist/spark/ and enter as the spark version\n",
    "# For example:\n",
    "# spark_version = 'spark-3.3.0'\n",
    "spark_version = 'spark-3.3.0'\n",
    "os.environ['SPARK_VERSION']=spark_version\n",
    "\n",
    "# Install Spark and Java\n",
    "!apt-get update\n",
    "!apt-get install openjdk-11-jdk-headless -qq > /dev/null\n",
    "!wget -q http://www.apache.org/dist/spark/SPARK_VERSION-bin-hadoop3.tgz\n",
    "!tar xf $SPARK_VERSION-bin-hadoop3.tgz\n",
    "!pip install -q findspark\n",
    "\n",
    "# Set Environment Variables\n",
    "import os\n",
    "os.environ[\"JAVA_HOME\"] = \"/usr/lib/jvm/java-11-openjdk-amd64\"\n",
    "os.environ[\"SPARK_HOME\"] = f\"/content/{spark_version}-bin-hadoop3\"\n",
    "\n",
    "# Start a SparkSession\n",
    "import findspark\n",
    "findspark.init()"
   ]
  },
  {
   "cell_type": "code",
   "execution_count": null,
   "id": "09b3a023",
   "metadata": {},
   "outputs": [],
   "source": [
    "# Start Spark session\n",
    "from pyspark.sql import SparkSession\n",
    "spark = SparkSession.builder.appName(\"M16Deliverable2\").getOrCreate()"
   ]
  },
  {
   "cell_type": "code",
   "execution_count": null,
   "id": "de224c18",
   "metadata": {},
   "outputs": [],
   "source": [
    "from pyspark import SparkFiles\n",
    "url = \"https://s3.amazonaws.com/amazon-reviews-pds/tsv/amazon_reviews_us_Musical_Instruments_v1_00.tsv.gz\"\n",
    "spark.sparkContext.addFile(url)\n",
    "df = spark.read.option(\"encoding\", \"UTF-8\").csv(SparkFiles.get(\"amazon_reviews_us_Musical_Instruments_v1_00.tsv.gz\"), sep=\"\\t\", header=True, inferSchema=True)\n",
    "df.show()"
   ]
  },
  {
   "cell_type": "code",
   "execution_count": null,
   "id": "d4c62e09",
   "metadata": {},
   "outputs": [],
   "source": [
    "# Create the vine_table DataFrame\n",
    "vine_df = df.select(['review_id', 'star_rating', 'helpful_votes', 'total_votes', 'vine', 'verified_purchase'])\n",
    "vine_df.show()"
   ]
  },
  {
   "cell_type": "code",
   "execution_count": null,
   "id": "33e83b1e",
   "metadata": {},
   "outputs": [],
   "source": [
    "# 1. Filter data and create new DataFrame to retrieve all rows where the total_votes count is equal to or greater than 20\n",
    "filtered_df = vine_df.filter('total_votes>=20')\n",
    "filtered_df.show()"
   ]
  },
  {
   "cell_type": "code",
   "execution_count": null,
   "id": "82fc47a2",
   "metadata": {},
   "outputs": [],
   "source": [
    "# 2. Filter the new DataFrame created in Step 1 and create a new DataFrame to retrieve all the rows where the number of helpful_votes\n",
    "# divided by total_votes is equal to or greater than 50%\n",
    "helpful_votes_df = filtered_df.filter(df['helpful_votes']/df['total_votes'] >= 0.5)\n",
    "helpful_votes_df.show()"
   ]
  },
  {
   "cell_type": "code",
   "execution_count": null,
   "id": "c65fa962",
   "metadata": {},
   "outputs": [],
   "source": [
    "# Confirm the above table by adding a \"helpful_votes/total_votes\" column\n",
    "helpful_votes_df2 = vine_df.withColumn('helpful_votes/total_votes', vine_df['helpful_votes']/vine_df['total_votes'] >= 0.5)\n",
    "helpful_votes_df2 = helpful_votes_df2.filter(helpful_votes_df2['helpful_votes']/helpful_votes_df2['total_votes'] >= 0.5)\n",
    "helpful_votes_df2.show()"
   ]
  },
  {
   "cell_type": "code",
   "execution_count": null,
   "id": "9244fdab",
   "metadata": {},
   "outputs": [],
   "source": [
    "# 3. Filter the DataFrame created in Step 2 and create a new DataFrame that retrieves all the rows where a review was written as part of\n",
    "# the Vine program (paid), vine == 'Y'\n",
    "vine_paid_df = helpful_votes_df.filter(helpful_votes_df['vine'] == 'Y')\n",
    "vine_paid_df.show()"
   ]
  },
  {
   "cell_type": "code",
   "execution_count": null,
   "id": "2c87aa0b",
   "metadata": {},
   "outputs": [],
   "source": [
    "# Repeat Step 3, but this time retrieve all the rows where the review was not part of the Vine program (unpaid), vine == 'N'\n",
    "vine_unpaid_df = helpful_votes_df.filter(helpful_votes_df['vine'] == 'N')\n",
    "vine_unpaid_df.show()"
   ]
  },
  {
   "cell_type": "code",
   "execution_count": null,
   "id": "db1faa5c",
   "metadata": {},
   "outputs": [],
   "source": [
    "# Step 5: Total Number of Reviews\n",
    "# Get row count\n",
    "rows = helpful_votes_df.count()\n",
    "print(f\"DataFrame Rows count : {rows}\")"
   ]
  },
  {
   "cell_type": "code",
   "execution_count": null,
   "id": "34d3a5b9",
   "metadata": {},
   "outputs": [],
   "source": [
    "# Number of 5-star reviews\n",
    "five_star_reviews = helpful_votes_df.filter(helpful_votes_df['star_rating'] == 5).count()\n",
    "print(f\"There are {five_star_reviews} 5-star reviews.\")"
   ]
  },
  {
   "cell_type": "code",
   "execution_count": null,
   "id": "4b2fd985",
   "metadata": {},
   "outputs": [],
   "source": [
    "# Number of paid and unpaid (overall)\n",
    "paid = vine_paid_df.count()\n",
    "unpaid = vine_unpaid_df.count()\n",
    "print(f\"There are {paid} paid reviews and {unpaid} unpaid reviews.\")"
   ]
  },
  {
   "cell_type": "code",
   "execution_count": null,
   "id": "80443b63",
   "metadata": {},
   "outputs": [],
   "source": [
    "# Number of paid and unpaid (five star reviews)\n",
    "five_star_paid = vine_paid_df.filter(vine_paid_df['star_rating'] == 5).count()\n",
    "five_star_unpaid = vine_unpaid_df.filter(vine_unpaid_df['star_rating'] == 5).count()\n",
    "print(f\"There are {five_star_paid} paid 5-star reviews and {five_star_unpaid} unpaid 5-star reviews.\")"
   ]
  },
  {
   "cell_type": "code",
   "execution_count": null,
   "id": "91485afe",
   "metadata": {},
   "outputs": [],
   "source": [
    "# Determine the percentage of 5-star reviews for the two types of review (paid vs unpaid)\n",
    "five_star_paid_percent = five_star_paid/five_star_reviews * 100\n",
    "five_star_unpaid_percent = five_star_unpaid/five_star_reviews * 100\n",
    "print(f\"{five_star_paid_percent}% of 5 star reviews were paid and {five_star_unpaid_percent}% were unpaid.\")"
   ]
  }
 ],
 "metadata": {
  "kernelspec": {
   "display_name": "Python 3 (ipykernel)",
   "language": "python",
   "name": "python3"
  },
  "language_info": {
   "codemirror_mode": {
    "name": "ipython",
    "version": 3
   },
   "file_extension": ".py",
   "mimetype": "text/x-python",
   "name": "python",
   "nbconvert_exporter": "python",
   "pygments_lexer": "ipython3",
   "version": "3.9.12"
  }
 },
 "nbformat": 4,
 "nbformat_minor": 5
}
